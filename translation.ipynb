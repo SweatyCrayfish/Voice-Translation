{
 "cells": [
  {
   "cell_type": "code",
   "execution_count": null,
   "id": "26d7db51",
   "metadata": {},
   "outputs": [],
   "source": [
    "import speech_recognition as sr\n",
    "from langdetect import detect\n",
    "from transformers import AutoTokenizer, AutoModelForSeq2SeqLM\n",
    "\n",
    "# Set up the Hugging Face Transformers translation model\n",
    "model_name = 'Helsinki-NLP/opus-mt-en-ROMANCE'\n",
    "tokenizer = AutoTokenizer.from_pretrained(model_name)\n",
    "model = AutoModelForSeq2SeqLM.from_pretrained(model_name)\n",
    "\n",
    "def recognize_speech():\n",
    "    recognizer = sr.Recognizer()\n",
    "    with sr.Microphone() as source:\n",
    "        print(\"Listening...\")\n",
    "        audio = recognizer.listen(source)\n",
    "\n",
    "    try:\n",
    "        text = recognizer.recognize_google(audio)\n",
    "        print(\"You said: \", text)\n",
    "        return text\n",
    "    except:\n",
    "        print(\"Sorry, I couldn't understand.\")\n",
    "        return None\n",
    "\n",
    "def detect_language(text):\n",
    "    return detect(text)\n",
    "\n",
    "def translate_text(text, target_language):\n",
    "    inputs = tokenizer(text, return_tensors=\"pt\")\n",
    "    outputs = model.generate(**inputs)\n",
    "    translated_text = tokenizer.decode(outputs[0], skip_special_tokens=True)\n",
    "    return translated_text\n",
    "\n",
    "def main():\n",
    "    user_native_language = 'en'  # Set user's native language here (e.g., 'en' for English\n",
    "    while True:\n",
    "        spoken_text = recognize_speech()\n",
    "        if spoken_text:\n",
    "            detected_language = detect_language(spoken_text)\n",
    "            translated_text = translate_text(spoken_text, user_native_language)\n",
    "            print(f\"Translated ({detected_language} to {user_native_language}): {translated_text}\")\n",
    "\n",
    "if __name__ == '__main__':\n",
    "    main()\n"
   ]
  }
 ],
 "metadata": {
  "kernelspec": {
   "display_name": "Python 3 (ipykernel)",
   "language": "python",
   "name": "python3"
  },
  "language_info": {
   "codemirror_mode": {
    "name": "ipython",
    "version": 3
   },
   "file_extension": ".py",
   "mimetype": "text/x-python",
   "name": "python",
   "nbconvert_exporter": "python",
   "pygments_lexer": "ipython3",
   "version": "3.9.12"
  }
 },
 "nbformat": 4,
 "nbformat_minor": 5
}
